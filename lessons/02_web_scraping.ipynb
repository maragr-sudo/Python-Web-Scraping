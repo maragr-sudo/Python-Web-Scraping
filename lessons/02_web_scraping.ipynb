{
  "cells": [
    {
      "cell_type": "markdown",
      "source": [
        "\n",
        "\n",
        "```\n",
        "# Ejecución del proceso de clonacion e inicialización del repositorio\n",
        "```\n",
        "\n"
      ],
      "metadata": {
        "id": "RuJFqYE4fYF9"
      }
    },
    {
      "cell_type": "code",
      "source": [
        "!git clone https://github.com/maragr-sudo/Python-Web-Scraping.git"
      ],
      "metadata": {
        "colab": {
          "base_uri": "https://localhost:8080/"
        },
        "collapsed": true,
        "id": "5ZvINZcn_WU1",
        "outputId": "431c5d98-f862-4975-ec23-dcb8c96b3eca"
      },
      "execution_count": 72,
      "outputs": [
        {
          "output_type": "stream",
          "name": "stdout",
          "text": [
            "fatal: destination path 'Python-Web-Scraping' already exists and is not an empty directory.\n"
          ]
        }
      ]
    },
    {
      "cell_type": "code",
      "source": [
        "!git init"
      ],
      "metadata": {
        "colab": {
          "base_uri": "https://localhost:8080/"
        },
        "collapsed": true,
        "id": "OWjtmspm_gKU",
        "outputId": "9a664ab0-5cb7-4861-e5db-76b9e1efa675"
      },
      "execution_count": 73,
      "outputs": [
        {
          "output_type": "stream",
          "name": "stdout",
          "text": [
            "Reinitialized existing Git repository in /content/.git/\n"
          ]
        }
      ]
    },
    {
      "cell_type": "code",
      "source": [
        "!git config user.name maragr-sudo\n",
        "!git config user.email marthi1901@gmail.com"
      ],
      "metadata": {
        "id": "G-0EN5fh_lHD"
      },
      "execution_count": 74,
      "outputs": []
    },
    {
      "cell_type": "markdown",
      "metadata": {
        "id": "aWxtczdS_Uhf"
      },
      "source": [
        "# Web Scraping with Beautiful Soup\n",
        "\n",
        "* * *\n",
        "\n",
        "### Icons used in this notebook\n",
        "🔔 **Question**: A quick question to help you understand what's going on.<br>\n",
        "🥊 **Challenge**: Interactive exercise. We'll work through these in the workshop!<br>\n",
        "⚠️ **Warning**: Heads-up about tricky stuff or common mistakes.<br>\n",
        "💡 **Tip**: How to do something a bit more efficiently or effectively.<br>\n",
        "🎬 **Demo**: Showing off something more advanced – so you know what Python can be used for!<br>\n",
        "\n",
        "### Learning Objectives\n",
        "1. [Reflection: To Scape Or Not To Scrape](#when)\n",
        "2. [Extracting and Parsing HTML](#extract)\n",
        "3. [Scraping the Illinois General Assembly](#scrape)"
      ]
    },
    {
      "cell_type": "markdown",
      "metadata": {
        "id": "lvif_fyx_Uhl"
      },
      "source": [
        "<a id='when'></a>\n",
        "\n",
        "# To Scrape Or Not To Scrape\n",
        "\n",
        "When we'd like to access data from the web, we first have to make sure if the website we are interested in offers a Web API. Platforms like Twitter, Reddit, and the New York Times offer APIs. **Check out D-Lab's [Python Web APIs](https://github.com/dlab-berkeley/Python-Web-APIs) workshop if you want to learn how to use APIs.**\n",
        "\n",
        "However, there are often cases when a Web API does not exist. In these cases, we may have to resort to web scraping, where we extract the underlying HTML from a web page, and directly obtain the information we want. There are several packages in Python we can use to accomplish these tasks. We'll focus two packages: Requests and Beautiful Soup.\n",
        "\n",
        "Our case study will be scraping information on the [state senators of Illinois](http://www.ilga.gov/senate), as well as the [list of bills](http://www.ilga.gov/senate/SenatorBills.asp?MemberID=1911&GA=98&Primary=True) each senator has sponsored. Before we get started, peruse these websites to take a look at their structure."
      ]
    },
    {
      "cell_type": "markdown",
      "source": [
        "**` Objetivo del notebook`**\n",
        "\n",
        "*El objetivo principal de este notebook es enseñar los fundamentos del web scraping utilizando las bibliotecas de Python requests y BeautifulSoup*\n",
        "\n",
        "\n"
      ],
      "metadata": {
        "id": "2Ru4jVwLFINN"
      }
    },
    {
      "cell_type": "markdown",
      "source": [
        "🧰 **Sección 1: Instalacion de librerias requeridas**\n"
      ],
      "metadata": {
        "id": "yQI42X_PFclO"
      }
    },
    {
      "cell_type": "markdown",
      "metadata": {
        "id": "pAQsthPK_Uhr"
      },
      "source": [
        "## Installation\n",
        "\n",
        "We will use two main packages: [Requests](http://docs.python-requests.org/en/latest/user/quickstart/) and [Beautiful Soup](http://www.crummy.com/software/BeautifulSoup/bs4/doc/). Go ahead and install these packages, if you haven't already:"
      ]
    },
    {
      "cell_type": "markdown",
      "source": [
        "-- Se instala **requests** para hacer peticiones HTTP y obtener el contenido de una página web,  **BeautifulSoup** nos permite analizar y extraer información del HTML, y se instala tambien **lxml** es un analizador de alto rendimiento que trabaja con Beautiful Soup para procesar el HTML de manera más eficiente."
      ],
      "metadata": {
        "id": "seT6kLuOU1bA"
      }
    },
    {
      "cell_type": "code",
      "execution_count": 75,
      "metadata": {
        "colab": {
          "base_uri": "https://localhost:8080/"
        },
        "collapsed": true,
        "id": "1OB5VnaJ_Uhw",
        "outputId": "058fda24-5c74-4d8c-f637-1a627bc0b50d"
      },
      "outputs": [
        {
          "output_type": "stream",
          "name": "stdout",
          "text": [
            "Requirement already satisfied: requests in /usr/local/lib/python3.12/dist-packages (2.32.4)\n",
            "Requirement already satisfied: charset_normalizer<4,>=2 in /usr/local/lib/python3.12/dist-packages (from requests) (3.4.3)\n",
            "Requirement already satisfied: idna<4,>=2.5 in /usr/local/lib/python3.12/dist-packages (from requests) (3.10)\n",
            "Requirement already satisfied: urllib3<3,>=1.21.1 in /usr/local/lib/python3.12/dist-packages (from requests) (2.5.0)\n",
            "Requirement already satisfied: certifi>=2017.4.17 in /usr/local/lib/python3.12/dist-packages (from requests) (2025.8.3)\n"
          ]
        }
      ],
      "source": [
        "%pip install requests"
      ]
    },
    {
      "cell_type": "code",
      "execution_count": 76,
      "metadata": {
        "colab": {
          "base_uri": "https://localhost:8080/"
        },
        "collapsed": true,
        "id": "9xQYdzgK_Uhy",
        "outputId": "24daea9c-90b1-415c-ea7f-efa027d0c372"
      },
      "outputs": [
        {
          "output_type": "stream",
          "name": "stdout",
          "text": [
            "Requirement already satisfied: beautifulsoup4 in /usr/local/lib/python3.12/dist-packages (4.13.4)\n",
            "Requirement already satisfied: soupsieve>1.2 in /usr/local/lib/python3.12/dist-packages (from beautifulsoup4) (2.7)\n",
            "Requirement already satisfied: typing-extensions>=4.0.0 in /usr/local/lib/python3.12/dist-packages (from beautifulsoup4) (4.14.1)\n"
          ]
        }
      ],
      "source": [
        "%pip install beautifulsoup4"
      ]
    },
    {
      "cell_type": "markdown",
      "metadata": {
        "id": "X-ZiQwMO_Uhz"
      },
      "source": [
        "We'll also install the `lxml` package, which helps support some of the parsing that Beautiful Soup performs:"
      ]
    },
    {
      "cell_type": "code",
      "execution_count": 77,
      "metadata": {
        "colab": {
          "base_uri": "https://localhost:8080/"
        },
        "collapsed": true,
        "id": "89eDPNXY_Uh0",
        "outputId": "acfdab15-a637-4ff9-c706-163822c88c11"
      },
      "outputs": [
        {
          "output_type": "stream",
          "name": "stdout",
          "text": [
            "Requirement already satisfied: lxml in /usr/local/lib/python3.12/dist-packages (5.4.0)\n"
          ]
        }
      ],
      "source": [
        "%pip install lxml"
      ]
    },
    {
      "cell_type": "code",
      "execution_count": 78,
      "metadata": {
        "tags": [],
        "id": "-eU6Na-A_Uh3"
      },
      "outputs": [],
      "source": [
        "# Import required libraries\n",
        "from bs4 import BeautifulSoup\n",
        "from datetime import datetime\n",
        "import requests\n",
        "import time"
      ]
    },
    {
      "cell_type": "markdown",
      "source": [
        "---*Estas librerías permiten hacer peticiones web, analizar HTML, manejar datos y visualizarlos*."
      ],
      "metadata": {
        "id": "LT5Hgy-eZ4Vl"
      }
    },
    {
      "cell_type": "markdown",
      "metadata": {
        "id": "0yi28cho_Uh5"
      },
      "source": [
        "<a id='extract'></a>\n",
        "\n",
        "# Extracting and Parsing HTML\n",
        "\n",
        "In order to succesfully scrape and analyse HTML, we'll be going through the following 4 steps:\n",
        "1. Make a GET request\n",
        "2. Parse the page with Beautiful Soup\n",
        "3. Search for HTML elements\n",
        "4. Get attributes and text of these elements"
      ]
    },
    {
      "cell_type": "markdown",
      "metadata": {
        "id": "EwCH5Q9I_Uh_"
      },
      "source": [
        "## Step 1: Make a GET Request to Obtain a Page's HTML\n",
        "\n",
        "We can use the Requests library to:\n",
        "\n",
        "1. Make a GET request to the page, and\n",
        "2. Read in the webpage's HTML code.\n",
        "\n",
        "The process of making a request and obtaining a result resembles that of the Web API workflow. Now, however, we're making a request directly to the website, and we're going to have to parse the HTML ourselves. This is in contrast to being provided data organized into a more straightforward `JSON` or `XML` output."
      ]
    },
    {
      "cell_type": "markdown",
      "source": [
        "## **🧰 Paso 1: Obtener el HTML de una Página**\n",
        "El primer paso del proceso de web scraping es descargar el código fuente de la página http://www.ilga.gov/senate/default.asp , el código utiliza requests.get() para hacer una solicitud a la URL . El resultado de la solicitud se guarda en la variable req, y el contenido de texto (HTML) se extrae usando req.text. El código luego imprime los primeros 1000 caracteres del HTML para mostrar una vista previa del contenido que se ha descargado."
      ],
      "metadata": {
        "id": "peuBdXLlgPhE"
      }
    },
    {
      "cell_type": "code",
      "execution_count": null,
      "metadata": {
        "tags": [],
        "id": "niNWFIsh_UiA"
      },
      "outputs": [],
      "source": [
        "# Make a GET request\n",
        "req = requests.get('http://www.ilga.gov/senate/default.asp')\n",
        "# Read the content of the server’s response\n",
        "src = req.text\n",
        "# View some output\n",
        "print(src[:1000])"
      ]
    },
    {
      "cell_type": "markdown",
      "source": [
        "## **🧰 Paso 2: Método BeautifulSoup: Construcción y análisis de la página principal**"
      ],
      "metadata": {
        "id": "HUIn_zmbY9yM"
      }
    },
    {
      "cell_type": "markdown",
      "metadata": {
        "id": "DQKyKYq__UiC"
      },
      "source": [
        "## Step 2: Parse the Page with Beautiful Soup\n",
        "\n",
        "Now, we use the `BeautifulSoup` function to parse the reponse into an HTML tree. This returns an object (called a **soup object**) which contains all of the HTML in the original document.\n",
        "\n",
        "If you run into an error about a parser library, make sure you've installed the `lxml` package to provide Beautiful Soup with the necessary parsing tools."
      ]
    },
    {
      "cell_type": "code",
      "execution_count": null,
      "metadata": {
        "id": "zuh3ryRA_UiC"
      },
      "outputs": [],
      "source": [
        "# Parse the response into an HTML tree\n",
        "soup = BeautifulSoup(src, 'lxml')\n",
        "# Take a look\n",
        "print(soup.prettify()[:1000])"
      ]
    },
    {
      "cell_type": "markdown",
      "source": [
        "\n",
        "---El código crea un objeto BeautifulSoup al que se le pasa el HTML descargado (src) y el analizador ('lxml').\n",
        "El método soup.prettify() se utiliza para formatear el HTML de manera legible, mostrando el árbol de elementos.---\n"
      ],
      "metadata": {
        "id": "KP_ssDuFhyyK"
      }
    },
    {
      "cell_type": "markdown",
      "metadata": {
        "id": "WWNEo7yD_UiD"
      },
      "source": [
        "The output looks pretty similar to the above, but now it's organized in a `soup` object which allows us to more easily traverse the page."
      ]
    },
    {
      "cell_type": "markdown",
      "source": [
        "### **🧰 Paso 3: Buscar Elementos HTML**"
      ],
      "metadata": {
        "id": "sVtKHVHBik-W"
      }
    },
    {
      "cell_type": "markdown",
      "metadata": {
        "id": "FoN3IL85_UiE"
      },
      "source": [
        "## Step 3: Search for HTML Elements\n",
        "\n",
        "Beautiful Soup has a number of functions to find useful components on a page. Beautiful Soup lets you find elements by their:\n",
        "\n",
        "1. HTML tags\n",
        "2. HTML Attributes\n",
        "3. CSS Selectors\n",
        "\n",
        "Let's search first for **HTML tags**.\n",
        "\n",
        "The function `find_all` searches the `soup` tree to find all the elements with an a particular HTML tag, and returns all of those elements.\n",
        "\n",
        "What does the example below do?"
      ]
    },
    {
      "cell_type": "markdown",
      "source": [
        "Esta es la parte clave para encontrar la información deseada. El notebook muestra tres formas principales de buscar elementos:\n",
        "\n",
        "Por etiqueta HTML: El método find_all(\"a\") busca todos los elementos de\n",
        "\n",
        "*   Por etiqueta HTML: El método find_all(\"a\") busca todos los elementos de anclaje.\n",
        "\n",
        "*   Por clase CSS: Se puede combinar la búsqueda por etiqueta con la clase CSS. Por ejemplo, soup.select(\"a.sidemenu\") busca todas las etiquetasque tienen la clase sidemenu.\n",
        "\n",
        "*   Por selector CSS: El método select() permite usar selectores CSS más\n",
        "complejos para obtener elementos de forma muy específica, como soup.select('tr tr tr') para encontrar filas de tabla anidadas."
      ],
      "metadata": {
        "id": "aASGweCli9PW"
      }
    },
    {
      "cell_type": "code",
      "execution_count": null,
      "metadata": {
        "id": "kRTquL1O_UiE"
      },
      "outputs": [],
      "source": [
        "# Find all elements with a certain tag\n",
        "a_tags = soup.find_all(\"a\")\n",
        "print(a_tags[:10])"
      ]
    },
    {
      "cell_type": "markdown",
      "metadata": {
        "id": "2NNk5b3c_UiG"
      },
      "source": [
        "Because `find_all()` is the most popular method in the Beautiful Soup search API, you can use a shortcut for it. If you treat the BeautifulSoup object as though it were a function, then it’s the same as calling `find_all()` on that object.\n",
        "\n",
        "These two lines of code are equivalent:"
      ]
    },
    {
      "cell_type": "code",
      "execution_count": null,
      "metadata": {
        "tags": [],
        "id": "uGmS08Q3_UiH"
      },
      "outputs": [],
      "source": [
        "a_tags = soup.find_all(\"a\")\n",
        "a_tags_alt = soup(\"a\")\n",
        "print(a_tags[0])\n",
        "print(a_tags_alt[0])"
      ]
    },
    {
      "cell_type": "markdown",
      "metadata": {
        "id": "4Z7hE-nx_UiI"
      },
      "source": [
        "How many links did we obtain?"
      ]
    },
    {
      "cell_type": "code",
      "execution_count": null,
      "metadata": {
        "id": "JBiAJ2u-_UiJ"
      },
      "outputs": [],
      "source": [
        "print(len(a_tags))"
      ]
    },
    {
      "cell_type": "markdown",
      "metadata": {
        "id": "-EXh-gxo_UiJ"
      },
      "source": [
        "That's a lot! Many elements on a page will have the same HTML tag. For instance, if you search for everything with the `a` tag, you're likely to get more hits, many of which you might not want. Remember, the `a` tag defines a hyperlink, so you'll usually find many on any given page.\n",
        "\n",
        "What if we wanted to search for HTML tags with certain attributes, such as particular CSS classes?\n",
        "\n",
        "We can do this by adding an additional argument to the `find_all`. In the example below, we are finding all the `a` tags, and then filtering those with `class_=\"sidemenu\"`."
      ]
    },
    {
      "cell_type": "code",
      "execution_count": null,
      "metadata": {
        "tags": [],
        "id": "qiUknHSF_UiM"
      },
      "outputs": [],
      "source": [
        "# Get only the 'a' tags in 'sidemenu' class\n",
        "side_menus = soup(\"a\", class_=\"sidemenu\")\n",
        "side_menus[:5]"
      ]
    },
    {
      "cell_type": "markdown",
      "metadata": {
        "id": "BT7h5b8H_UiN"
      },
      "source": [
        "A more efficient way to search for elements on a website is via a **CSS selector**. For this we have to use a different method called `select()`. Just pass a string into the `.select()` to get all elements with that string as a valid CSS selector.\n",
        "\n",
        "In the example above, we can use `\"a.sidemenu\"` as a CSS selector, which returns all `a` tags with class `sidemenu`."
      ]
    },
    {
      "cell_type": "code",
      "execution_count": null,
      "metadata": {
        "tags": [],
        "id": "AOzHBuGL_UiO"
      },
      "outputs": [],
      "source": [
        "# Get elements with \"a.sidemenu\" CSS Selector.\n",
        "selected = soup.select(\"a.sidemenu\")\n",
        "selected[:5]"
      ]
    },
    {
      "cell_type": "markdown",
      "metadata": {
        "id": "uSqPenOs_UiP"
      },
      "source": [
        "## 🥊 Challenge: Find All\n",
        "\n",
        "Use BeautifulSoup to find all the `a` elements with class `mainmenu`."
      ]
    },
    {
      "cell_type": "code",
      "execution_count": null,
      "metadata": {
        "id": "D0DFgXa7_UiP"
      },
      "outputs": [],
      "source": [
        "# MY CODE HERE\n",
        "main_menus = soup.find_all('a', class_='mainmenu')\n",
        "main_menus[:4]"
      ]
    },
    {
      "cell_type": "markdown",
      "source": [
        "### **🧰 Paso 4: Extraer Atributos y Texto**\n"
      ],
      "metadata": {
        "id": "inIR3e_UllXg"
      }
    },
    {
      "cell_type": "markdown",
      "metadata": {
        "id": "MzotGazC_UiQ"
      },
      "source": [
        "## Step 4: Get Attributes and Text of Elements\n",
        "\n",
        "Once we identify elements, we want the access information in that element. Usually, this means two things:\n",
        "\n",
        "1. Text\n",
        "2. Attributes\n",
        "\n",
        "Getting the text inside an element is easy. All we have to do is use the `text` member of a `tag` object:"
      ]
    },
    {
      "cell_type": "markdown",
      "source": [
        "-- Texto: Se accede al texto dentro de un elemento usando la propiedad .text.\n",
        "\n",
        "-- Atributos: Los atributos de un elemento (como el href en un enlace) se pueden obtener tratando el objeto de la etiqueta como un diccionario, por ejemplo, enlace['href']"
      ],
      "metadata": {
        "id": "3oRBlGoHlSOJ"
      }
    },
    {
      "cell_type": "code",
      "execution_count": null,
      "metadata": {
        "tags": [],
        "id": "4DQB5OEc_UiQ"
      },
      "outputs": [],
      "source": [
        "# Get all sidemenu links as a list\n",
        "side_menu_links = soup.select(\"a.sidemenu\")\n",
        "\n",
        "# Examine the first link\n",
        "first_link = side_menu_links[0]\n",
        "print(first_link)\n",
        "\n",
        "# What class is this variable?\n",
        "print('Class: ', type(first_link))"
      ]
    },
    {
      "cell_type": "markdown",
      "metadata": {
        "id": "5NOlzSEk_UiR"
      },
      "source": [
        "It's a Beautiful Soup tag! This means it has a `text` member:"
      ]
    },
    {
      "cell_type": "code",
      "execution_count": null,
      "metadata": {
        "tags": [],
        "id": "qCmFB40p_UiR"
      },
      "outputs": [],
      "source": [
        "print(first_link.text)"
      ]
    },
    {
      "cell_type": "markdown",
      "metadata": {
        "id": "22EV_9zb_UiS"
      },
      "source": [
        "Sometimes we want the value of certain attributes. This is particularly relevant for `a` tags, or links, where the `href` attribute tells us where the link goes.\n",
        "\n",
        "💡 **Tip**: You can access a tag’s attributes by treating the tag like a dictionary:"
      ]
    },
    {
      "cell_type": "code",
      "execution_count": null,
      "metadata": {
        "tags": [],
        "id": "FggHrwN2_UiS"
      },
      "outputs": [],
      "source": [
        "print(first_link['href'])"
      ]
    },
    {
      "cell_type": "markdown",
      "metadata": {
        "id": "EcIQ9K9-_UiT"
      },
      "source": [
        "## 🥊 Challenge: Extract specific attributes\n",
        "\n",
        "Extract all `href` attributes for each `mainmenu` URL."
      ]
    },
    {
      "cell_type": "code",
      "execution_count": null,
      "metadata": {
        "id": "O1fSBoFM_UiT"
      },
      "outputs": [],
      "source": [
        "# MY CODE HERE\n",
        "mainmenu_links = [a['href'] for a in soup.select('a.mainmenu') if a.has_attr('href')]\n",
        "print(mainmenu_links[:10])"
      ]
    },
    {
      "cell_type": "markdown",
      "metadata": {
        "id": "dUVzdMSJ_UiU"
      },
      "source": [
        "<a id='scrape'></a>\n",
        "\n",
        "# Scraping the Illinois General Assembly\n",
        "\n",
        "Believe it or not, those are really the fundamental tools you need to scrape a website. Once you spend more time familiarizing yourself with HTML and CSS, then it's simply a matter of understanding the structure of a particular website and intelligently applying the tools of Beautiful Soup and Python.\n",
        "\n",
        "Let's apply these skills to scrape the [Illinois 98th General Assembly](http://www.ilga.gov/senate/default.asp?GA=98).\n",
        "\n",
        "Specifically, our goal is to scrape information on each senator, including their name, district, and party."
      ]
    },
    {
      "cell_type": "markdown",
      "metadata": {
        "id": "IuQYsAFV_UiV"
      },
      "source": [
        "## Scrape and Soup the Webpage\n",
        "\n",
        "Let's scrape and parse the webpage, using the tools we learned in the previous section."
      ]
    },
    {
      "cell_type": "markdown",
      "source": [
        "***#Descarga la página objetiva***\n",
        "\n",
        "> Añadir blockquote\n",
        "\n"
      ],
      "metadata": {
        "id": "UaEDmtS2ohck"
      }
    },
    {
      "cell_type": "code",
      "execution_count": null,
      "metadata": {
        "tags": [],
        "id": "YDxcuHph_UiV"
      },
      "outputs": [],
      "source": [
        "# Make a GET request\n",
        "req = requests.get('http://www.ilga.gov/senate/default.asp?GA=98')\n",
        "# Read the content of the server’s response\n",
        "src = req.text\n",
        "# Soup it\n",
        "soup = BeautifulSoup(src, \"lxml\")"
      ]
    },
    {
      "cell_type": "markdown",
      "metadata": {
        "id": "E4mS_h1b_UiW"
      },
      "source": [
        "## Search for the Table Elements\n",
        "\n",
        "Our goal is to obtain the elements in the table on the webpage. Remember: rows are identified by the `tr` tag. Let's use `find_all` to obtain these elements."
      ]
    },
    {
      "cell_type": "code",
      "execution_count": null,
      "metadata": {
        "id": "aWgtG8rW_UiW"
      },
      "outputs": [],
      "source": [
        "# Get all table row elements\n",
        "rows = soup.find_all(\"tr\")\n",
        "len(rows)"
      ]
    },
    {
      "cell_type": "markdown",
      "metadata": {
        "id": "KK1LMw-u_UiZ"
      },
      "source": [
        "⚠️ **Warning**: Keep in mind: `find_all` gets *all* the elements with the `tr` tag. We only want some of them. If we use the 'Inspect' function in Google Chrome and look carefully, then we can use some CSS selectors to get just the rows we're interested in. Specifically, we want the inner rows of the table:"
      ]
    },
    {
      "cell_type": "code",
      "execution_count": null,
      "metadata": {
        "id": "mhbNJ9B0_UiZ"
      },
      "outputs": [],
      "source": [
        "# Returns every ‘tr tr tr’ css selector in the page\n",
        "rows = soup.select('tr tr tr')\n",
        "\n",
        "for row in rows[:5]:\n",
        "    print(row, '\\n')"
      ]
    },
    {
      "cell_type": "markdown",
      "source": [
        "***# Se usa selector ¨tr tr tr¨para ir a filas anidadas internas (donde está la data útil) y muestra ejemplos.***"
      ],
      "metadata": {
        "id": "ofHyKdgfozXn"
      }
    },
    {
      "cell_type": "markdown",
      "metadata": {
        "id": "-GwZ5HA6_Uia"
      },
      "source": [
        "It looks like we want everything after the first two rows. Let's work with a single row to start, and build our loop from there."
      ]
    },
    {
      "cell_type": "code",
      "execution_count": null,
      "metadata": {
        "id": "NIWbcpSI_Uid"
      },
      "outputs": [],
      "source": [
        "example_row = rows[2]\n",
        "print(example_row.prettify())"
      ]
    },
    {
      "cell_type": "markdown",
      "metadata": {
        "id": "emdjw47d_Uid"
      },
      "source": [
        "Let's break this row down into its component cells/columns using the `select` method with CSS selectors. Looking closely at the HTML, there are a couple of ways we could do this.\n",
        "\n",
        "* We could identify the cells by their tag `td`.\n",
        "* We could use the the class name `.detail`.\n",
        "* We could combine both and use the selector `td.detail`."
      ]
    },
    {
      "cell_type": "markdown",
      "source": [
        "***# Muestra tres formas equivalentes de seleccionar celdas***"
      ],
      "metadata": {
        "id": "aqefOVgnpR6o"
      }
    },
    {
      "cell_type": "code",
      "execution_count": null,
      "metadata": {
        "id": "lY1NABpe_Uie"
      },
      "outputs": [],
      "source": [
        "for cell in example_row.select('td'):\n",
        "    print(cell)\n",
        "print()\n",
        "\n",
        "for cell in example_row.select('.detail'):\n",
        "    print(cell)\n",
        "print()\n",
        "\n",
        "for cell in example_row.select('td.detail'):\n",
        "    print(cell)\n",
        "print()"
      ]
    },
    {
      "cell_type": "markdown",
      "metadata": {
        "id": "KAEY3zcL_Uif"
      },
      "source": [
        "We can confirm that these are all the same."
      ]
    },
    {
      "cell_type": "code",
      "execution_count": null,
      "metadata": {
        "tags": [],
        "id": "a-mxwBv2_Uif"
      },
      "outputs": [],
      "source": [
        "assert example_row.select('td') == example_row.select('.detail') == example_row.select('td.detail')"
      ]
    },
    {
      "cell_type": "markdown",
      "metadata": {
        "id": "9-904YRb_Uig"
      },
      "source": [
        "Let's use the selector `td.detail` to be as specific as possible."
      ]
    },
    {
      "cell_type": "code",
      "execution_count": null,
      "metadata": {
        "id": "HA6G8yaU_Uih"
      },
      "outputs": [],
      "source": [
        "# Select only those 'td' tags with class 'detail'\n",
        "detail_cells = example_row.select('td.detail')\n",
        "detail_cells"
      ]
    },
    {
      "cell_type": "markdown",
      "metadata": {
        "id": "d0MaEI0S_Uih"
      },
      "source": [
        "Most of the time, we're interested in the actual **text** of a website, not its tags. Recall that to get the text of an HTML element, we use the `text` member:"
      ]
    },
    {
      "cell_type": "code",
      "execution_count": null,
      "metadata": {
        "id": "l1A0Jbwk_Uii"
      },
      "outputs": [],
      "source": [
        "# Keep only the text in each of those cells\n",
        "row_data = [cell.text for cell in detail_cells]\n",
        "\n",
        "print(row_data)"
      ]
    },
    {
      "cell_type": "markdown",
      "metadata": {
        "id": "9pewLw9i_Uii"
      },
      "source": [
        "Looks good! Now we just use our basic Python knowledge to get the elements of this list that we want. Remember, we want the senator's name, their district, and their party."
      ]
    },
    {
      "cell_type": "markdown",
      "source": [
        "***#Se detalla  qué campos los interesa imprimir : nombre (0), distrito (3) y partido (4).***"
      ],
      "metadata": {
        "id": "c3RQki42pwEI"
      }
    },
    {
      "cell_type": "code",
      "execution_count": null,
      "metadata": {
        "id": "f8r1UrLe_Uij"
      },
      "outputs": [],
      "source": [
        "print(row_data[0]) # Name\n",
        "print(row_data[3]) # District\n",
        "print(row_data[4]) # Party"
      ]
    },
    {
      "cell_type": "markdown",
      "metadata": {
        "id": "wNVDDRfN_Uik"
      },
      "source": [
        "## Getting Rid of Junk Rows\n",
        "\n",
        "We saw at the beginning that not all of the rows we got actually correspond to a senator. We'll need to do some cleaning before we can proceed forward. Take a look at some examples:"
      ]
    },
    {
      "cell_type": "code",
      "execution_count": null,
      "metadata": {
        "id": "D7T1QRXS_Uik"
      },
      "outputs": [],
      "source": [
        "print('Row 0:\\n', rows[0], '\\n')\n",
        "print('Row 1:\\n', rows[1], '\\n')\n",
        "print('Last Row:\\n', rows[-1])"
      ]
    },
    {
      "cell_type": "markdown",
      "metadata": {
        "id": "gVqOUR6E_Uil"
      },
      "source": [
        "When we write our for loop, we only want it to apply to the relevant rows. So we'll need to filter out the irrelevant rows. The way to do this is to compare some of these to the rows we do want, see how they differ, and then formulate that in a conditional.\n",
        "\n",
        "As you can imagine, there a lot of possible ways to do this, and it'll depend on the website. We'll show some here to give you an idea of how to do this."
      ]
    },
    {
      "cell_type": "markdown",
      "source": [
        "***#Nos propone formular una condición para quedarnos solo con filas válidas***"
      ],
      "metadata": {
        "id": "zHgASuPWqVUQ"
      }
    },
    {
      "cell_type": "code",
      "execution_count": null,
      "metadata": {
        "id": "QaErRo0h_Uim"
      },
      "outputs": [],
      "source": [
        "# Bad rows\n",
        "print(len(rows[0]))\n",
        "print(len(rows[1]))\n",
        "\n",
        "# Good rows\n",
        "print(len(rows[2]))\n",
        "print(len(rows[3]))"
      ]
    },
    {
      "cell_type": "markdown",
      "metadata": {
        "id": "f9MZlytr_Uin"
      },
      "source": [
        "Perhaps good rows have a length of 5. Let's check:"
      ]
    },
    {
      "cell_type": "code",
      "execution_count": null,
      "metadata": {
        "id": "CXdKFNre_Uin"
      },
      "outputs": [],
      "source": [
        "good_rows = [row for row in rows if len(row) == 5]\n",
        "\n",
        "# Let's check some rows\n",
        "print(good_rows[0], '\\n')\n",
        "print(good_rows[-2], '\\n')\n",
        "print(good_rows[-1])"
      ]
    },
    {
      "cell_type": "markdown",
      "metadata": {
        "id": "tThJpeki_Uio"
      },
      "source": [
        "We found a footer row in our list that we'd like to avoid. Let's try something else:"
      ]
    },
    {
      "cell_type": "code",
      "execution_count": null,
      "metadata": {
        "id": "kYYKX-ij_Uio"
      },
      "outputs": [],
      "source": [
        "rows[2].select('td.detail')"
      ]
    },
    {
      "cell_type": "code",
      "execution_count": null,
      "metadata": {
        "id": "EuDp9fPB_Uip"
      },
      "outputs": [],
      "source": [
        "# Bad row\n",
        "print(rows[-1].select('td.detail'), '\\n')\n",
        "\n",
        "# Good row\n",
        "print(rows[5].select('td.detail'), '\\n')\n",
        "\n",
        "# How about this?\n",
        "good_rows = [row for row in rows if row.select('td.detail')]\n",
        "\n",
        "print(\"Checking rows...\\n\")\n",
        "print(good_rows[0], '\\n')\n",
        "print(good_rows[-1])"
      ]
    },
    {
      "cell_type": "markdown",
      "metadata": {
        "id": "qYDaw-7Z_Uiq"
      },
      "source": [
        "Looks like we found something that worked!"
      ]
    },
    {
      "cell_type": "markdown",
      "metadata": {
        "id": "jTE4FK3F_Uir"
      },
      "source": [
        "## Loop it All Together\n",
        "\n",
        "Now that we've seen how to get the data we want from one row, as well as filter out the rows we don't want, let's put it all together into a loop."
      ]
    },
    {
      "cell_type": "code",
      "execution_count": null,
      "metadata": {
        "tags": [],
        "id": "rt0g9RO__Uit"
      },
      "outputs": [],
      "source": [
        "# Define storage list\n",
        "members = []\n",
        "\n",
        "# Get rid of junk rows\n",
        "valid_rows = [row for row in rows if row.select('td.detail')]\n",
        "\n",
        "# Loop through all rows\n",
        "for row in valid_rows:\n",
        "    # Select only those 'td' tags with class 'detail'\n",
        "    detail_cells = row.select('td.detail')\n",
        "    # Keep only the text in each of those cells\n",
        "    row_data = [cell.text for cell in detail_cells]\n",
        "    # Collect information\n",
        "    name = row_data[0]\n",
        "    district = int(row_data[3])\n",
        "    party = row_data[4]\n",
        "    # Store in a tuple\n",
        "    senator = (name, district, party)\n",
        "    # Append to list\n",
        "    members.append(senator)"
      ]
    },
    {
      "cell_type": "code",
      "execution_count": null,
      "metadata": {
        "id": "fhPf16vM_Uiv"
      },
      "outputs": [],
      "source": [
        "# Should be 61\n",
        "len(members)"
      ]
    },
    {
      "cell_type": "markdown",
      "metadata": {
        "id": "kBqnalut_Uiw"
      },
      "source": [
        "Let's take a look at what we have in `members`."
      ]
    },
    {
      "cell_type": "code",
      "execution_count": null,
      "metadata": {
        "id": "4i7rIJyP_Uix"
      },
      "outputs": [],
      "source": [
        "print(members[:5])"
      ]
    },
    {
      "cell_type": "markdown",
      "metadata": {
        "id": "EGNhoQIA_Uix"
      },
      "source": [
        "## 🥊  Challenge: Get `href` elements pointing to members' bills\n",
        "\n",
        "The code above retrieves information on:  \n",
        "\n",
        "- the senator's name,\n",
        "- their district number,\n",
        "- and their party.\n",
        "\n",
        "We now want to retrieve the URL for each senator's list of bills. Each URL will follow a specific format.\n",
        "\n",
        "The format for the list of bills for a given senator is:\n",
        "\n",
        "`http://www.ilga.gov/senate/SenatorBills.asp?GA=98&MemberID=[MEMBER_ID]&Primary=True`\n",
        "\n",
        "to get something like:\n",
        "\n",
        "`http://www.ilga.gov/senate/SenatorBills.asp?MemberID=1911&GA=98&Primary=True`\n",
        "\n",
        "in which `MEMBER_ID=1911`.\n",
        "\n",
        "You should be able to see that, unfortunately, `MEMBER_ID` is not currently something pulled out in our scraping code.\n",
        "\n",
        "Your initial task is to modify the code above so that we also **retrieve the full URL which points to the corresponding page of primary-sponsored bills**, for each member, and return it along with their name, district, and party.\n",
        "\n",
        "Tips:\n",
        "\n",
        "* To do this, you will want to get the appropriate anchor element (`<a>`) in each legislator's row of the table. You can again use the `.select()` method on the `row` object in the loop to do this — similar to the command that finds all of the `td.detail` cells in the row. Remember that we only want the link to the legislator's bills, not the committees or the legislator's profile page.\n",
        "* The anchor elements' HTML will look like `<a href=\"/senate/Senator.asp/...\">Bills</a>`. The string in the `href` attribute contains the **relative** link we are after. You can access an attribute of a BeatifulSoup `Tag` object the same way you access a Python dictionary: `anchor['attributeName']`. See the <a href=\"http://www.crummy.com/software/BeautifulSoup/bs4/doc/#tag\">documentation</a> for more details.\n",
        "* There are a _lot_ of different ways to use BeautifulSoup to get things done. whatever you need to do to pull the `href` out is fine.\n",
        "\n",
        "The code has been partially filled out for you. Fill it in where it says `#YOUR CODE HERE`. Save the path into an object called `full_path`."
      ]
    },
    {
      "cell_type": "code",
      "execution_count": null,
      "metadata": {
        "tags": [],
        "id": "qrwNF3eV_Uiy"
      },
      "outputs": [],
      "source": [
        "# Make a GET request\n",
        "req = requests.get('http://www.ilga.gov/senate/default.asp?GA=98')\n",
        "# Read the content of the server’s response\n",
        "src = req.text\n",
        "# Soup it\n",
        "soup = BeautifulSoup(src, \"lxml\")\n",
        "# Create empty list to store our data\n",
        "members = []\n",
        "\n",
        "# Returns every ‘tr tr tr’ css selector in the page\n",
        "rows = soup.select('tr tr tr')\n",
        "# Get rid of junk rows\n",
        "rows = [row for row in rows if row.select('td.detail')]\n",
        "\n",
        "# Loop through all rows\n",
        "for row in rows:\n",
        "    # Select only those 'td' tags with class 'detail'\n",
        "    detail_cells = row.select('td.detail')\n",
        "    # Keep only the text in each of those cells\n",
        "    row_data = [cell.text for cell in detail_cells]\n",
        "    # Collect information\n",
        "    name = row_data[0]\n",
        "    district = int(row_data[3])\n",
        "    party = row_data[4]\n",
        "\n",
        "    # YOUR CODE HERE\n",
        "    full_path = ''\n",
        "\n",
        "    # Store in a tuple\n",
        "    senator = (name, district, party, full_path)\n",
        "    # Append to list\n",
        "    members.append(senator)"
      ]
    },
    {
      "cell_type": "code",
      "execution_count": null,
      "metadata": {
        "tags": [],
        "id": "7TaDf1DO_Uiz"
      },
      "outputs": [],
      "source": [
        "# Uncomment to test\n",
        "# members[:5]"
      ]
    },
    {
      "cell_type": "markdown",
      "metadata": {
        "id": "XhZb0RVS_Ui0"
      },
      "source": [
        "## 🥊  Challenge: Modularize Your Code\n",
        "\n",
        "Turn the code above into a function that accepts a URL, scrapes the URL for its senators, and returns a list of tuples containing information about each senator."
      ]
    },
    {
      "cell_type": "code",
      "execution_count": null,
      "metadata": {
        "tags": [],
        "id": "vgWtGnXs_Ui0"
      },
      "outputs": [],
      "source": [
        "# YOUR CODE HERE\n",
        "def get_members(url):\n",
        "    return [___]\n"
      ]
    },
    {
      "cell_type": "code",
      "execution_count": null,
      "metadata": {
        "tags": [],
        "id": "D37gL08B_Ui1"
      },
      "outputs": [],
      "source": [
        "# Test your code\n",
        "url = 'http://www.ilga.gov/senate/default.asp?GA=98'\n",
        "senate_members = get_members(url)\n",
        "len(senate_members)"
      ]
    },
    {
      "cell_type": "markdown",
      "metadata": {
        "id": "q84y8jLc_Ui2"
      },
      "source": [
        "## 🥊 Take-home Challenge: Writing a Scraper Function\n",
        "\n",
        "We want to scrape the webpages corresponding to bills sponsored by each bills.\n",
        "\n",
        "Write a function called `get_bills(url)` to parse a given bills URL. This will involve:\n",
        "\n",
        "  - requesting the URL using the <a href=\"http://docs.python-requests.org/en/latest/\">`requests`</a> library\n",
        "  - using the features of the `BeautifulSoup` library to find all of the `<td>` elements with the class `billlist`\n",
        "  - return a _list_ of tuples, each with:\n",
        "      - description (2nd column)\n",
        "      - chamber (S or H) (3rd column)\n",
        "      - the last action (4th column)\n",
        "      - the last action date (5th column)\n",
        "      \n",
        "This function has been partially completed. Fill in the rest."
      ]
    },
    {
      "cell_type": "code",
      "execution_count": null,
      "metadata": {
        "tags": [],
        "id": "be0N-3C3_Ui2"
      },
      "outputs": [],
      "source": [
        "def get_bills(url):\n",
        "    src = requests.get(url).text\n",
        "    soup = BeautifulSoup(src)\n",
        "    rows = soup.select('tr')\n",
        "    bills = []\n",
        "    for row in rows:\n",
        "        # YOUR CODE HERE\n",
        "        bill_id =\n",
        "        description =\n",
        "        chamber =\n",
        "        last_action =\n",
        "        last_action_date =\n",
        "        bill = (bill_id, description, chamber, last_action, last_action_date)\n",
        "        bills.append(bill)\n",
        "    return bills"
      ]
    },
    {
      "cell_type": "code",
      "execution_count": null,
      "metadata": {
        "tags": [],
        "id": "jRze21_r_Ui5"
      },
      "outputs": [],
      "source": [
        "# Uncomment to test your code\n",
        "# test_url = senate_members[0][3]\n",
        "# get_bills(test_url)[0:5]"
      ]
    },
    {
      "cell_type": "markdown",
      "metadata": {
        "id": "k6P_yK-J_Ui7"
      },
      "source": [
        "### Scrape All Bills\n",
        "\n",
        "Finally, create a dictionary `bills_dict` which maps a district number (the key) onto a list of bills (the value) coming from that district. You can do this by looping over all of the senate members in `members_dict` and calling `get_bills()` for each of their associated bill URLs.\n",
        "\n",
        "**NOTE:** please call the function `time.sleep(1)` for each iteration of the loop, so that we don't destroy the state's web site."
      ]
    },
    {
      "cell_type": "code",
      "execution_count": null,
      "metadata": {
        "tags": [],
        "id": "4FKhYuNt_Ui-"
      },
      "outputs": [],
      "source": [
        "# MY CODE HERE\n",
        "import time\n",
        "bills_dict = {}\n",
        "for name, district, party, bills_url in senate_members:\n",
        "    if not bills_url:\n",
        "        continue\n",
        "    bills = get_bills(bills_url)\n",
        "    bills_dict[district] = bills\n",
        "    time.sleep(1) # respetar el servidor\n",
        "\n",
        "\n",
        "# Ejemplo\n",
        "print(list(bills_dict.keys())[:5])\n",
        "print(bills_dict[52][:2])"
      ]
    },
    {
      "cell_type": "code",
      "execution_count": null,
      "metadata": {
        "tags": [],
        "id": "7Yirx677_UjA"
      },
      "outputs": [],
      "source": [
        "# Uncomment to test your code\n",
        "# bills_dict[52]"
      ]
    },
    {
      "cell_type": "markdown",
      "source": [
        "En conclusión esta notebook nos enseña a descargar una página web (requests),  analizar el HTML (BeautifulSoup) y a extraer información (títulos, subtítulos, enlaces, tablas)."
      ],
      "metadata": {
        "id": "zXeSSqCYuzEv"
      }
    },
    {
      "cell_type": "markdown",
      "source": [],
      "metadata": {
        "id": "K4vKRVqCuy5G"
      }
    }
  ],
  "metadata": {
    "anaconda-cloud": {},
    "kernelspec": {
      "display_name": "Python 3 (ipykernel)",
      "language": "python",
      "name": "python3"
    },
    "language_info": {
      "codemirror_mode": {
        "name": "ipython",
        "version": 3
      },
      "file_extension": ".py",
      "mimetype": "text/x-python",
      "name": "python",
      "nbconvert_exporter": "python",
      "pygments_lexer": "ipython3",
      "version": "3.8.13"
    },
    "vscode": {
      "interpreter": {
        "hash": "b6f9fe9f4b7182690503d8ecc2bae97b0ee3ebf54e877167ae4d28c119a56988"
      }
    },
    "colab": {
      "provenance": []
    }
  },
  "nbformat": 4,
  "nbformat_minor": 0
}